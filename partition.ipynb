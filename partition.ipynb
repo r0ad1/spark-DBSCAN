{
 "cells": [
  {
   "cell_type": "code",
   "execution_count": 1,
   "metadata": {
    "collapsed": true
   },
   "outputs": [],
   "source": [
    "import pandas as pd\n",
    "import numpy as np\n",
    "import math as math"
   ]
  },
  {
   "cell_type": "code",
   "execution_count": 3,
   "metadata": {
    "collapsed": false
   },
   "outputs": [],
   "source": [
    "raw_data=pd.read_csv('labeled_data_with_ind.csv')\n",
    "raw_data=raw_data.astype(float)\n",
    "location_index=['x','y']#the name of column respect location\n",
    "sigmoid=0.1\n",
    "arr_lacation_index=[1,2]#location for x\\y in data saved in array\n",
    "f=2\n",
    "maxcost=1000\n",
    "\n",
    "#threshold=100\n",
    "\n",
    "\n",
    "#raw_data=raw_data[0:2]\n",
    "#raw_data['x'][0],raw_data['y'][0]=0,0\n",
    "#raw_data['x'][1],raw_data['y'][1]=2*sigmoid,sigmoid*2\n"
   ]
  },
  {
   "cell_type": "code",
   "execution_count": 4,
   "metadata": {
    "collapsed": false
   },
   "outputs": [],
   "source": [
    "max_data=np.array(raw_data[location_index].max(axis=0))\n",
    "min_data=np.array(raw_data[location_index].min(axis=0))\n",
    "size_of_cell=list((np.ceil((max_data-min_data)/(2*sigmoid))+1).astype(int))\n",
    "\n"
   ]
  },
  {
   "cell_type": "code",
   "execution_count": null,
   "metadata": {
    "collapsed": false
   },
   "outputs": [],
   "source": []
  },
  {
   "cell_type": "code",
   "execution_count": 5,
   "metadata": {
    "collapsed": false
   },
   "outputs": [],
   "source": [
    "def mul(a):\n",
    "    result=1\n",
    "    for i in a:\n",
    "        result=result*i\n",
    "    return int(result)\n",
    "\n",
    "def dx_to_d1(local,total=size_of_cell):\n",
    "    d1=0\n",
    "    for i in range(len(local)): \n",
    "        d1+=mul(total[i+1:])*(local[i])\n",
    "    return int(d1)\n",
    "\n",
    "def d1_to_dx(d1,total=size_of_cell):\n",
    "    dx=[]\n",
    "    for i in range(len(total)):\n",
    "        local=mul(total[i+1:])\n",
    "        a=int(np.floor(d1/local))\n",
    "        dx.append(a)\n",
    "        d1=d1%local\n",
    "    return list(dx)\n",
    "    "
   ]
  },
  {
   "cell_type": "code",
   "execution_count": 6,
   "metadata": {
    "collapsed": false
   },
   "outputs": [],
   "source": [
    "#partition data into cell\n",
    "def data_to_cell(data,sigmoid,location_index,size_of_cell=size_of_cell):\n",
    "    \n",
    "    max_data=np.array(data[location_index].max(axis=0))\n",
    "    min_data=np.array(data[location_index].min(axis=0))\n",
    "    #size_of_cell=list(np.ceil((max_data-min_data)/(2*sigmoid)).astype(int))\n",
    "    \n",
    "    #initial \n",
    "    #number in cell/ 1d index of cell\n",
    "    cell=[[0,i] for i in range(mul(size_of_cell))]\n",
    "    \n",
    "    for i in range(len(data)):\n",
    "        location=data[location_index][i:i+1]\n",
    "        cell_index=np.array(np.floor((location-min_data)/(2*sigmoid)).astype(int))[0]\n",
    "        cell_index=dx_to_d1(cell_index,size_of_cell)\n",
    "        local_data=list(np.array(data[i:i+1]))\n",
    "        #print(cell_index)\n",
    "        cell[cell_index].append(local_data)\n",
    "        cell[cell_index][0]+=1\n",
    "    return cell\n"
   ]
  },
  {
   "cell_type": "code",
   "execution_count": 7,
   "metadata": {
    "collapsed": false
   },
   "outputs": [],
   "source": [
    "#estimate cost for one cell\n",
    "#given by papper \n",
    "#f is the average fanout of the R-tree\n",
    "#NS in point of  space rectangle S, consist of all the cell\n",
    "#n is the number of dimensio\n",
    "def cell_cost(data,f,NS,n):\n",
    "    if data[0]!=0:\n",
    "        h=int(1+math.ceil(math.log((1.0*NS/f),f)))\n",
    "        DA=1\n",
    "        for i in range(h):\n",
    "            j=i+1\n",
    "            DA+=(1+(1.0*data[0]/(f**j))**(1.0/n))**n\n",
    "        w=DA*data[0]\n",
    "    else:\n",
    "        w=0\n",
    "    return w\n",
    "        \n",
    "def reg_cost(data,f,location_index):\n",
    "    n= len(location_index)\n",
    "    \n",
    "    NS=0\n",
    "    for d in data:\n",
    "        NS+=d[0]\n",
    "    \n",
    "    WS=0\n",
    "    if NS!=0:\n",
    "        for local_data in data:\n",
    "            W_c=cell_cost(local_data,f,NS,n)\n",
    "            WS+=0+W_c\n",
    "    return WS\n",
    "        \n",
    "def reg_cost2(data,f,location_index):\n",
    "    #use the number of point as cost\n",
    "    #f is useless, just to make simialr with reg_cost\n",
    "    NS=0\n",
    "    for d in data:\n",
    "        NS+=d[0]\n",
    "    return NS\n",
    "    \n",
    "def reg_cost3(data,location_index):\n",
    "    #use the number of point as cost\n",
    "    #f is useless, just to make simialr with reg_cost\n",
    "    NS=0\n",
    "    for d in data:\n",
    "        NS+=d[0]\n",
    "    return NS    \n",
    "\n",
    "\n",
    "def point_to_data(data,point,size_of_cell=size_of_cell):\n",
    "    #from two point to get total data based on cell size\n",
    "    down_cell=d1_to_dx(point[0],size_of_cell)\n",
    "    up_cell=d1_to_dx(point[1],size_of_cell)    \n",
    "    total_data=meshgrid_kd(down_cell,up_cell)\n",
    "    total_data_index=[dx_to_d1(i,size_of_cell) for i in total_data] \n",
    "    data=[data[index] for index in total_data_index]\n",
    "    return data"
   ]
  },
  {
   "cell_type": "code",
   "execution_count": 8,
   "metadata": {
    "collapsed": false
   },
   "outputs": [],
   "source": [
    "def meshgrid_kd(down_cell,up_cell):\n",
    "    #give the mesh grid for different dimension\n",
    "    a=[[]]\n",
    "    for i in range(len(down_cell)):\n",
    "        b=[[j] for j in range(down_cell[i],up_cell[i]+1) ]\n",
    "        d=[]\n",
    "        for j in b:\n",
    "            d+=[k+j for k in a]\n",
    "        a=d\n",
    "    return a\n",
    "\n",
    "#cost based binary spllit\n",
    "#for data , we only use 2 index(two cornor of regtangle, taht is,max/min id index)to respect it, insead of all data\n",
    "#so that we do not have to partition or copy raw data evertime, just up data the cornor\n",
    "#up data consist of two index, [min, max]\n",
    "def split_binary(up_data,location_index,f):\n",
    "    down_cell=d1_to_dx(up_data[0],size_of_cell)\n",
    "    up_cell=d1_to_dx(up_data[1],size_of_cell)\n",
    "       \n",
    "    total_data=meshgrid_kd(down_cell,up_cell)\n",
    "    total_data_index=[dx_to_d1(i,size_of_cell) for i in total_data] \n",
    "    \n",
    "    mincost_di=float(\"inf\")\n",
    "    #use one dim to cut data\n",
    "    for i in range(len(location_index)):        \n",
    "        #init change date and S1,S2\n",
    "        change_down=down_cell[:]\n",
    "        change_up=up_cell[:]\n",
    "        #print(down_cell,up_cell)\n",
    "        left_data_index=[]\n",
    "        right_data_index=total_data_index[:]\n",
    "        for j in range(down_cell[i], up_cell[i]):  \n",
    "            #print(down_cell,up_cell)\n",
    "            change_down[i]=j\n",
    "            change_up[i]=j\n",
    "            #print(down_cell,up_cell)\n",
    "            change_column=meshgrid_kd(change_down,change_up)\n",
    "            change_column_index=[dx_to_d1(column_index,size_of_cell) for column_index in change_column] \n",
    "            for element in change_column_index:\n",
    "                left_data_index.append(element)\n",
    "                right_data_index.remove(element)\n",
    "            #print(len(right_data_index))\n",
    "            #print(len(left_data_index))\n",
    "            left_data=[data[index_left] for index_left in left_data_index]\n",
    "            right_data=[data[index_right] for index_right in right_data_index]\n",
    "            cost_di=abs(reg_cost(left_data,f,location_index)-reg_cost(right_data,f,location_index))\n",
    "            if cost_di<mincost_di:\n",
    "                mincost_di=cost_di\n",
    "                best_left_data_index,best_right_data_index= left_data_index[:],right_data_index[:]\n",
    "    \n",
    "    b_l_d_down_cell=min( best_left_data_index)\n",
    "    b_l_d_up_cell=max( best_left_data_index)\n",
    "    b_r_d_down_cell=min( best_right_data_index)\n",
    "    b_r_d_up_cell=max( best_right_data_index)\n",
    "    \n",
    "    left=[b_l_d_down_cell,b_l_d_up_cell]\n",
    "    right=[b_r_d_down_cell,b_r_d_up_cell]\n",
    "    return left,right\n",
    "            \n",
    "            \n",
    "            \n",
    "            \n",
    "            \n",
    "            \n",
    "            "
   ]
  },
  {
   "cell_type": "code",
   "execution_count": 9,
   "metadata": {
    "collapsed": false
   },
   "outputs": [],
   "source": [
    "def partition(data,maxcost,location_index,cost_function=reg_cost,f=f):\n",
    "    #default cost function\n",
    "    #data has been cut into cell before\n",
    "    Su=[0,len(data)-1]\n",
    "    queue=[Su] \n",
    "    partition=[]\n",
    "    \n",
    "    while len(queue)>0:\n",
    "        S=queue[0]\n",
    "        queue=queue[1:]\n",
    "        #print(S)\n",
    "        S_data=point_to_data(data,S,size_of_cell=size_of_cell)\n",
    "        if cost_function(S_data,f,location_index)>maxcost:\n",
    "            S1,S2=split_binary(S,location_index,f)\n",
    "            queue.append(S1)\n",
    "            queue.append(S2)\n",
    "        else:\n",
    "            partition.append(S)\n",
    "\n",
    "    return partition\n",
    "\n",
    "                \n",
    "            \n",
    "            \n",
    "    \n",
    "    \n"
   ]
  },
  {
   "cell_type": "code",
   "execution_count": 10,
   "metadata": {
    "collapsed": false
   },
   "outputs": [],
   "source": []
  },
  {
   "cell_type": "code",
   "execution_count": 11,
   "metadata": {
    "collapsed": false
   },
   "outputs": [],
   "source": [
    "def choose_shell(down_cell,up_cell):\n",
    "    #choose only the outermost layer\n",
    "    result=[]\n",
    "    for i in range(len(down_cell)):\n",
    "        local_down=down_cell[:]\n",
    "        local_up=up_cell[:]\n",
    "        local_down[i]=up_cell[i]\n",
    "        result=result+meshgrid_kd(local_down,local_up)\n",
    "        local_down=down_cell[:]\n",
    "        local_up=up_cell[:]\n",
    "        local_up[i]=down_cell[i]   \n",
    "        result=result+meshgrid_kd(local_down,local_up)\n",
    "    #result=list(set(result))\n",
    "    result = list(set([tuple(t) for t in result]))\n",
    "    result = [list(v) for v in result]\n",
    "    return result\n",
    "    \n",
    "def restrict_cell(down_cell,size_of_cell=size_of_cell):\n",
    "    min_cell=list(np.zeros(len(size_of_cell)))\n",
    "    max_cell=list(np.array(size_of_cell)-np.ones(len(size_of_cell)).astype(int))\n",
    "    down_cell=max(down_cell,min_cell)\n",
    "    down_cell=min(max_cell,down_cell)\n",
    "    down_cell=map(int, down_cell)\n",
    "    return list(down_cell)\n",
    "\n",
    "\n",
    "def data_outside(point,arr_lacation_index=arr_lacation_index,size_of_cell=size_of_cell,data=data,k=1,globle_min_point=min_data,sigmoid=sigmoid):\n",
    "    #use point to get data in next shell(not in the small regtangle), 1-sigmoid扩展矩形部分，不属于中央的矩形\n",
    "    #the extendece of reg = k*sigmoid ,and ,k=1<2\n",
    "    down_cell=d1_to_dx(point[0],size_of_cell)\n",
    "    up_cell=d1_to_dx(point[1],size_of_cell)\n",
    "    \n",
    "    data_in_next_cell=[]\n",
    "    big_down_cell=list(np.array(down_cell)-1)\n",
    "    big_up_cell=list(np.array(up_cell)+1)\n",
    "    big_down_cell=restrict_cell(big_down_cell)\n",
    "    big_up_cell=restrict_cell(big_up_cell)\n",
    "    \n",
    "    shell=choose_shell(big_down_cell,big_up_cell)\n",
    "    shell_index=[dx_to_d1(item) for item in shell]\n",
    "    \n",
    "    shell_data=[data[i] for i in shell_index]\n",
    "    #shell data = 2-sigmoid \n",
    "    shell_data_list=cell_to_list(shell_data)\n",
    "    \n",
    "    #consider whither in k_sigmoid\n",
    "    min_point=globle_min_point+(2*np.array(down_cell)-k)*sigmoid\n",
    "    max_point=globle_min_point+(2*np.array(up_cell)+k+2)*sigmoid\n",
    "    \n",
    "    result=[]\n",
    "    for i in shell_data_list:\n",
    "        record=i[0]\n",
    "        item=[record[j] for j in arr_lacation_index]\n",
    "        a=min_point<item\n",
    "        b=item<max_point\n",
    "        if np.prod(a) and np.prod(b):\n",
    "            result.append(i)\n",
    "            \n",
    "        \n",
    "        \n",
    "    \n",
    "    return result\n",
    "\n",
    "def data_inside(point,data=data):\n",
    "    #to list data\n",
    "    cell_data=point_to_data(data,point,size_of_cell=size_of_cell)\n",
    "    result=cell_to_list(cell_data)\n",
    "    return result\n",
    "        \n",
    "\n",
    "    \n",
    "def cell_to_list(data):\n",
    "    #data is the size of cell based kinds to a list  \n",
    "    result=[]\n",
    "    for item in data:\n",
    "        local_data=item[2:]\n",
    "        result=result+local_data\n",
    "    return result\n",
    "\n",
    " \n",
    "    \n",
    "    \n",
    "    "
   ]
  },
  {
   "cell_type": "code",
   "execution_count": 12,
   "metadata": {
    "collapsed": false
   },
   "outputs": [],
   "source": [
    "def bod_to_dataset(data_bod):\n",
    "    index_of_part=0\n",
    "    total_data=[]\n",
    "    for point in data_bod:\n",
    "        local=[]\n",
    "        local=data_outside(point)+data_inside(point)\n",
    "        local=[list(record[0]) for record in local]\n",
    "        local=list(set([tuple(record) for record in local]))\n",
    "        local = [[index_of_part]+list(v)[:] for v in local]\n",
    "        index_of_part=index_of_part+1\n",
    "        total_data=total_data+local\n",
    "    return total_data\n",
    "        "
   ]
  },
  {
   "cell_type": "code",
   "execution_count": 31,
   "metadata": {
    "collapsed": false
   },
   "outputs": [],
   "source": [
    "#maxcost=3000\n",
    "data=data_to_cell(raw_data,sigmoid,location_index)\n",
    "data_bod=partition(data,maxcost,location_index)\n",
    "result=bod_to_dataset(data_bod)\n",
    "new_head=['partition']+list(raw_data.head(0))\n",
    "final=pd.DataFrame(columns=new_head,data=result)"
   ]
  },
  {
   "cell_type": "code",
   "execution_count": 32,
   "metadata": {
    "collapsed": false
   },
   "outputs": [
    {
     "name": "stdout",
     "output_type": "stream",
     "text": [
      "8\n",
      "968\n"
     ]
    }
   ],
   "source": [
    "print(len(partition(data,maxcost,location_index)))\n",
    "print(len(final))"
   ]
  },
  {
   "cell_type": "code",
   "execution_count": null,
   "metadata": {
    "collapsed": false
   },
   "outputs": [],
   "source": [
    "\n"
   ]
  },
  {
   "cell_type": "code",
   "execution_count": 33,
   "metadata": {
    "collapsed": false
   },
   "outputs": [],
   "source": [
    "final.to_csv('data_partition——8p.csv')"
   ]
  },
  {
   "cell_type": "code",
   "execution_count": null,
   "metadata": {
    "collapsed": false
   },
   "outputs": [],
   "source": []
  },
  {
   "cell_type": "code",
   "execution_count": null,
   "metadata": {
    "collapsed": false
   },
   "outputs": [],
   "source": []
  },
  {
   "cell_type": "code",
   "execution_count": null,
   "metadata": {
    "collapsed": false
   },
   "outputs": [],
   "source": []
  },
  {
   "cell_type": "code",
   "execution_count": null,
   "metadata": {
    "collapsed": false
   },
   "outputs": [],
   "source": []
  },
  {
   "cell_type": "code",
   "execution_count": null,
   "metadata": {
    "collapsed": false
   },
   "outputs": [],
   "source": []
  },
  {
   "cell_type": "code",
   "execution_count": null,
   "metadata": {
    "collapsed": false
   },
   "outputs": [],
   "source": []
  },
  {
   "cell_type": "code",
   "execution_count": null,
   "metadata": {
    "collapsed": false
   },
   "outputs": [],
   "source": []
  },
  {
   "cell_type": "code",
   "execution_count": null,
   "metadata": {
    "collapsed": true
   },
   "outputs": [],
   "source": []
  },
  {
   "cell_type": "code",
   "execution_count": null,
   "metadata": {
    "collapsed": false
   },
   "outputs": [],
   "source": []
  },
  {
   "cell_type": "code",
   "execution_count": null,
   "metadata": {
    "collapsed": false
   },
   "outputs": [],
   "source": []
  },
  {
   "cell_type": "code",
   "execution_count": null,
   "metadata": {
    "collapsed": false
   },
   "outputs": [],
   "source": []
  },
  {
   "cell_type": "code",
   "execution_count": null,
   "metadata": {
    "collapsed": false
   },
   "outputs": [],
   "source": []
  },
  {
   "cell_type": "code",
   "execution_count": null,
   "metadata": {
    "collapsed": false
   },
   "outputs": [],
   "source": []
  },
  {
   "cell_type": "code",
   "execution_count": null,
   "metadata": {
    "collapsed": false
   },
   "outputs": [],
   "source": []
  },
  {
   "cell_type": "code",
   "execution_count": null,
   "metadata": {
    "collapsed": false
   },
   "outputs": [],
   "source": []
  },
  {
   "cell_type": "code",
   "execution_count": null,
   "metadata": {
    "collapsed": false
   },
   "outputs": [],
   "source": []
  },
  {
   "cell_type": "code",
   "execution_count": null,
   "metadata": {
    "collapsed": false
   },
   "outputs": [],
   "source": []
  },
  {
   "cell_type": "code",
   "execution_count": null,
   "metadata": {
    "collapsed": false
   },
   "outputs": [],
   "source": []
  },
  {
   "cell_type": "code",
   "execution_count": null,
   "metadata": {
    "collapsed": false
   },
   "outputs": [],
   "source": []
  },
  {
   "cell_type": "code",
   "execution_count": null,
   "metadata": {
    "collapsed": false
   },
   "outputs": [],
   "source": []
  },
  {
   "cell_type": "code",
   "execution_count": null,
   "metadata": {
    "collapsed": false
   },
   "outputs": [],
   "source": []
  },
  {
   "cell_type": "code",
   "execution_count": null,
   "metadata": {
    "collapsed": false
   },
   "outputs": [],
   "source": []
  },
  {
   "cell_type": "code",
   "execution_count": null,
   "metadata": {
    "collapsed": false
   },
   "outputs": [],
   "source": []
  },
  {
   "cell_type": "code",
   "execution_count": null,
   "metadata": {
    "collapsed": true
   },
   "outputs": [],
   "source": []
  }
 ],
 "metadata": {
  "kernelspec": {
   "display_name": "Python 2",
   "language": "python",
   "name": "python2"
  },
  "language_info": {
   "codemirror_mode": {
    "name": "ipython",
    "version": 2
   },
   "file_extension": ".py",
   "mimetype": "text/x-python",
   "name": "python",
   "nbconvert_exporter": "python",
   "pygments_lexer": "ipython2",
   "version": "2.7.14"
  }
 },
 "nbformat": 4,
 "nbformat_minor": 2
}
